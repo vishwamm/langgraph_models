{
 "cells": [
  {
   "cell_type": "code",
   "execution_count": 1,
   "metadata": {},
   "outputs": [],
   "source": [
    "import os"
   ]
  },
  {
   "cell_type": "code",
   "execution_count": 2,
   "metadata": {},
   "outputs": [],
   "source": [
    "os.environ[\"LANGCHAIN_API_KEYS\"]=\"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\"\n",
    "os.environ[\"GROQ_API_KEY\"]=\"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\"\n",
    "os.environ[\"COHERE_API_KEY\"]=\"P81GXHOuEglDPfaDpBDrtJ1vXiKO3og9qseIZhk5\""
   ]
  },
  {
   "cell_type": "code",
   "execution_count": 3,
   "metadata": {},
   "outputs": [],
   "source": [
    "from langgraph.checkpoint.sqlite import SqliteSaver\n",
    "\n",
    "memory = SqliteSaver.from_conn_string(\":memory:\")"
   ]
  },
  {
   "cell_type": "code",
   "execution_count": 4,
   "metadata": {},
   "outputs": [],
   "source": [
    "import operator\n",
    "from typing import Annotated,Sequence,Literal\n",
    "from typing_extensions import TypedDict\n",
    "from langchain_core.messages import BaseMessage,HumanMessage,ToolMessage,AIMessage\n",
    "from langgraph.graph import StateGraph,END\n",
    "from langgraph.prebuilt import ToolNode\n",
    "from langchain_core.tools import tool\n",
    "from langchain_core.prompts import ChatPromptTemplate, MessagesPlaceholder\n",
    "import functools\n",
    "from langchain_experimental.agents import create_csv_agent\n",
    "from sqlalchemy import create_engine\n",
    "from langchain_community.agent_toolkits import create_sql_agent\n",
    "from langchain_community.utilities import SQLDatabase"
   ]
  },
  {
   "cell_type": "code",
   "execution_count": 5,
   "metadata": {},
   "outputs": [],
   "source": [
    "def create_agent(llm, tools, system_message: str):\n",
    "    \"\"\"Create an agent.\"\"\"\n",
    "    prompt = ChatPromptTemplate.from_messages(\n",
    "        [\n",
    "            (\n",
    "                \"system\",\n",
    "                \"You are a helpful AI assistant, collaborating with other assistants.\"\n",
    "                \" Use the provided tools to progress towards answering the question.\"\n",
    "                \" If you are unable to fully answer, that's OK, another assistant with different tools \"\n",
    "                \" will help where you left off. Execute what you can to make progress.\"\n",
    "                \" If you or any of the other assistants have the final answer or deliverable,\"\n",
    "                \" prefix your response with FINAL ANSWER so the team knows to stop.\"\n",
    "                \" You have access to the following tools: {tool_names}.\\n{system_message}\",\n",
    "            ),\n",
    "            MessagesPlaceholder(variable_name=\"messages\"),\n",
    "        ]\n",
    "    )\n",
    "    prompt = prompt.partial(system_message=system_message)\n",
    "    prompt = prompt.partial(tool_names=\", \".join([tool.name for tool in tools]))\n",
    "    return prompt | llm.bind_tools(tools)"
   ]
  },
  {
   "cell_type": "code",
   "execution_count": 6,
   "metadata": {},
   "outputs": [],
   "source": [
    "def agent_node(state, agent, name):\n",
    "    result = agent.invoke(state)\n",
    "    # We convert the agent output into a format that is suitable to append to the global state\n",
    "    if isinstance(result, ToolMessage):\n",
    "        pass\n",
    "    else:\n",
    "        result = AIMessage(**result.dict(exclude={\"type\", \"name\"}), name=name)\n",
    "    return {\n",
    "        \"messages\": [result],\n",
    "        # Since we have a strict workflow, we can\n",
    "        # track the sender so we know who to pass to next.\n",
    "        \"sender\": name,\n",
    "    }"
   ]
  },
  {
   "cell_type": "code",
   "execution_count": 7,
   "metadata": {},
   "outputs": [],
   "source": [
    "class State(TypedDict):\n",
    "    messages: Annotated[Sequence[BaseMessage], operator.add]\n",
    "    sender: str"
   ]
  },
  {
   "cell_type": "code",
   "execution_count": 8,
   "metadata": {},
   "outputs": [],
   "source": [
    "from langchain_groq import ChatGroq\n",
    "llm = ChatGroq(model=\"llama3-70b-8192\",temperature= 0)\n",
    "from langchain_cohere.chat_models import ChatCohere\n",
    "#llm = ChatCohere(model=\"command-r-plus\", temperature=0)"
   ]
  },
  {
   "cell_type": "code",
   "execution_count": 9,
   "metadata": {},
   "outputs": [],
   "source": [
    "@tool\n",
    "def csv_tool(input:Annotated[str,\"Query used to process in csv file and return the output\"],):\n",
    "    \"\"\"If the user gives input related to datasets or csv file use this tool else skip this tool.\n",
    "    use this tool to analyze only the  CSV dataset using a pre-trained large language mode.It interacts with the model to answer questions about the data and \n",
    "    if need you can also use python language for task completion.Dont use this tool for processing SQL queries.\n",
    "    \"\"\"\n",
    "    csv_path =\"new.csv\"\n",
    "    model=ChatGroq(model=\"llama3-70b-8192\",temperature= 0)\n",
    "    agent = create_csv_agent(model, csv_path ,allow_dangerous_code=True)\n",
    "    response = agent.run(input)\n",
    "    return response+ \"\\n\\nIf you have completed all tasks, respond with FINAL ANSWER.\""
   ]
  },
  {
   "cell_type": "code",
   "execution_count": 10,
   "metadata": {},
   "outputs": [],
   "source": [
    "@tool\n",
    "def sql_tool(input:Annotated[str,\"Query used to process in sql database and return the output\"],):\n",
    "    \"\"\"If the user tells use SQ queries then use this tool else skip this tool.\n",
    "    You are a SQL agent and you need to answer to the inputs given to you by generating SQL queries and return the output\n",
    "    \"\"\"\n",
    "    model=ChatGroq(model=\"llama3-70b-8192\",temperature= 0)\n",
    "    db = SQLDatabase.from_uri(\"sqlite:///sql.db\")\n",
    "    agent_executor = create_sql_agent(model, db=db, verbose=True)\n",
    "    response=agent_executor.invoke(input)\n",
    "    response.update({\"completion_message\": \"If you have completed all tasks, respond with FINAL ANSWER.\"})\n",
    "    return response"
   ]
  },
  {
   "cell_type": "code",
   "execution_count": 11,
   "metadata": {},
   "outputs": [],
   "source": [
    "tools=[csv_tool,sql_tool]\n",
    "tool_node = ToolNode(tools)"
   ]
  },
  {
   "cell_type": "code",
   "execution_count": 12,
   "metadata": {},
   "outputs": [],
   "source": [
    "csv_agent = create_agent(\n",
    "    llm,\n",
    "    [csv_tool],\n",
    "    system_message=\"USE Only for CSV file and datasets related actions\",\n",
    ")\n",
    "csv_node = functools.partial(agent_node, agent=csv_agent, name=\"CSV Agent\")\n"
   ]
  },
  {
   "cell_type": "code",
   "execution_count": 13,
   "metadata": {},
   "outputs": [],
   "source": [
    "sql_agent = create_agent(\n",
    "    llm,\n",
    "    [sql_tool],\n",
    "    system_message=\"USE Only for SQL database actions.\",\n",
    ")\n",
    "sql_node = functools.partial(agent_node, agent=sql_agent, name=\"SQL Agent\")"
   ]
  },
  {
   "cell_type": "code",
   "execution_count": 14,
   "metadata": {},
   "outputs": [],
   "source": [
    "def router(state) -> Literal[\"call_tool\", \"__end__\", \"continue\"]:\n",
    "    messages = state[\"messages\"]\n",
    "    last_message = messages[-1]\n",
    "    if last_message.tool_calls:\n",
    "        return \"call_tool\"\n",
    "    if \"FINAL ANSWER\" in last_message.content:\n",
    "        return \"__end__\"\n",
    "    return \"continue\""
   ]
  },
  {
   "cell_type": "code",
   "execution_count": 15,
   "metadata": {},
   "outputs": [],
   "source": [
    "workflow = StateGraph(State)\n",
    "\n",
    "workflow.add_node(\"CSV Agent\", csv_node)\n",
    "workflow.add_node(\"SQL Agent\", sql_node)\n",
    "workflow.add_node(\"call_tool\", tool_node)\n",
    "\n",
    "\n",
    "\n",
    "workflow.add_conditional_edges(\n",
    "    \"CSV Agent\",\n",
    "    router,\n",
    "    {\"continue\": \"SQL Agent\",\"call_tool\": \"call_tool\", \"__end__\": END},\n",
    ")\n",
    "workflow.add_conditional_edges(\n",
    "    \"SQL Agent\",\n",
    "    router,\n",
    "    {\"continue\": \"CSV Agent\",\"call_tool\": \"call_tool\", \"__end__\": END},\n",
    ")\n",
    "\n",
    "\n",
    "workflow.add_conditional_edges(\n",
    "    \"call_tool\",\n",
    "    lambda x: x[\"sender\"],\n",
    "    {\n",
    "        \"CSV Agent\": \"CSV Agent\",\n",
    "        \"SQL Agent\": \"SQL Agent\",\n",
    "    },\n",
    ")\n",
    "\n",
    "\n",
    "\n",
    "\n",
    "workflow.set_entry_point(\"CSV Agent\")\n",
    "graph = workflow.compile()"
   ]
  },
  {
   "cell_type": "code",
   "execution_count": 16,
   "metadata": {},
   "outputs": [
    {
     "data": {
      "image/jpeg": "[encoded data removed]",
      "text/plain": [
       "<IPython.core.display.Image object>"
      ]
     },
     "metadata": {},
     "output_type": "display_data"
    }
   ],
   "source": [
    "from IPython.display import Image, display\n",
    "try:\n",
    "    display(Image(graph.get_graph().draw_mermaid_png()))\n",
    "except Exception:\n",
    "    pass"
   ]
  },
  {
   "cell_type": "code",
   "execution_count": null,
   "metadata": {},
   "outputs": [],
   "source": [
    "events = graph.stream(\n",
    "    {\n",
    "        \"messages\": [\n",
    "            HumanMessage(\n",
    "                content=\"\"\" show me the tables with first five rows of sql.db a SQL database using SQL queries.\n",
    "                \"\"\"\n",
    "                \n",
    "            )\n",
    "        ],\n",
    "    },\n",
    "    {\"recursion_limit\": 200},\n",
    ")\n",
    "for s in events:\n",
    "    print(s)\n",
    "    print(\"----\")"
   ]
  }
 ],
 "metadata": {
  "kernelspec": {
   "display_name": "langGraph2",
   "language": "python",
   "name": "python3"
  },
  "language_info": {
   "codemirror_mode": {
    "name": "ipython",
    "version": 3
   },
   "file_extension": ".py",
   "mimetype": "text/x-python",
   "name": "python",
   "nbconvert_exporter": "python",
   "pygments_lexer": "ipython3",
   "version": "3.10.14"
  }
 },
 "nbformat": 4,
 "nbformat_minor": 2
}
